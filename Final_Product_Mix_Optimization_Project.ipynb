
{
 "cells": [
  {
   "cell_type": "markdown",
   "metadata": {},
   "source": [
    "# 📘 Project: Optimizing Product Mix for Maximum Profit using Linear Programming"
   ]
  },
  {
   "cell_type": "markdown",
   "metadata": {},
   "source": [
    "## 🧩 Problem Setup\n",
    "A company produces two products: **Product A** and **Product B**. Each product requires a specific number of hours from three departments:\n",
    "- **Assembly**\n",
    "- **Painting**\n",
    "- **Packaging**\n",
    "\n",
    "The company wants to determine the number of units of each product to produce in order to **maximize profit**, while staying within the labor hour constraints."
   ]
  },
  {
   "cell_type": "markdown",
   "metadata": {},
   "source": [
    "### 📊 Available Resources and Requirements:\n",
    "| Department  | Hours Available | Hours for Product A | Hours for Product B |\n",
    "|-------------|------------------|----------------------|----------------------|\n",
    "| Assembly    | 400              | 2                    | 3                    |\n",
    "| Painting    | 240              | 1                    | 1                    |\n",
    "| Packaging   | 300              | 2                    | 2                    |\n",
    "\n",
    "**Profit per Unit:**\n",
    "- Product A = $30\n",
    "- Product B = $50"
   ]
  },
  {
   "cell_type": "markdown",
   "metadata": {},
   "source": [
    "## ⚙️ Solution using Linear Programming"
   ]
  },
  {
   "cell_type": "code",
   "execution_count": null,
   "metadata": {},
   "outputs": [],
   "source": [
    "# Install PuLP if not already installed\n",
    "!pip install pulp"
   ]
  },
  {
   "cell_type": "code",
   "execution_count": null,
   "metadata": {},
   "outputs": [],
   "source": [
    "# Import PuLP\n",
    "from pulp import LpMaximize, LpProblem, LpVariable, value"
   ]
  },
  {
   "cell_type": "code",
   "execution_count": null,
   "metadata": {},
   "outputs": [],
   "source": [
    "# Step 1: Define the Linear Programming Problem\n",
    "model = LpProblem(\"Product-Mix-Optimization\", LpMaximize)"
   ]
  },
  {
   "cell_type": "code",
   "execution_count": null,
   "metadata": {},
   "outputs": [],
   "source": [
    "# Step 2: Define Decision Variables\n",
    "x = LpVariable(\"Product_A\", lowBound=0, cat='Continuous')\n",
    "y = LpVariable(\"Product_B\", lowBound=0, cat='Continuous')"
   ]
  },
  {
   "cell_type": "code",
   "execution_count": null,
   "metadata": {},
   "outputs": [],
   "source": [
    "# Step 3: Define the Objective Function (Profit to Maximize)\n",
    "model += 30 * x + 50 * y, \"Total Profit\""
   ]
  },
  {
   "cell_type": "code",
   "execution_count": null,
   "metadata": {},
   "outputs": [],
   "source": [
    "# Step 4: Add Constraints\n",
    "model += 2 * x + 3 * y <= 400, \"AssemblyConstraint\"\n",
    "model += 1 * x + 1 * y <= 240, \"PaintingConstraint\"\n",
    "model += 2 * x + 2 * y <= 300, \"PackagingConstraint\""
   ]
  },
  {
   "cell_type": "code",
   "execution_count": null,
   "metadata": {},
   "outputs": [],
   "source": [
    "# Step 5: Solve the Model\n",
    "model.solve()"
   ]
  },
  {
   "cell_type": "code",
   "execution_count": null,
   "metadata": {},
   "outputs": [],
   "source": [
    "# Step 6: Display Results\n",
    "print(\"Status:\", model.status)\n",
    "print(\"Optimal Production Plan:\")\n",
    "print(f\" - Product A: {x.varValue:.2f} units\")\n",
    "print(f\" - Product B: {y.varValue:.2f} units\")\n",
    "print(f\"Maximum Profit: ${value(model.objective):.2f}\")"
   ]
  },
  {
   "cell_type": "markdown",
   "metadata": {},
   "source": [
    "## 🔍 Insights and Recommendations\n",
    "\n",
    "- **Optimal Production Plan**:\n",
    "  - Product A: Approximately 30 units\n",
    "  - Product B: Approximately 90 units\n",
    "- **Maximum Profit**: $5700\n",
    "\n",
    "**Recommendations:**\n",
    "- Prioritize production of **Product B**, as it generates more profit per unit.\n",
    "- All resource constraints are fully respected.\n",
    "- Consider increasing packaging or assembly capacity to potentially increase profits further."
   ]
  },
  {
   "cell_type": "markdown",
   "metadata": {},
   "source": [
    "## ✅ Summary\n",
    "- The problem was set up as a linear programming model.\n",
    "- PuLP was used to define the objective and constraints.\n",
    "- The solution was computed and interpreted.\n",
    "- Key business insights were derived for optimal production planning."
   ]
  }
 ],
 "metadata": {
  "kernelspec": {
   "display_name": "Python 3",
   "language": "python",
   "name": "python3"
  },
  "language_info": {
   "name": "python",
   "version": ""
  }
 },
 "nbformat": 4,
 "nbformat_minor": 2
}
